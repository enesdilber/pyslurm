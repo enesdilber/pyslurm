{
 "cells": [
  {
   "cell_type": "markdown",
   "metadata": {},
   "source": [
    "Make sure pyslurm is in your path!"
   ]
  },
  {
   "cell_type": "code",
   "execution_count": 1,
   "metadata": {},
   "outputs": [],
   "source": [
    "import sys\n",
    "sys.path.append('/home/enes/pyslurm/')\n",
    "from pyslurm import Slurm"
   ]
  },
  {
   "cell_type": "code",
   "execution_count": 2,
   "metadata": {},
   "outputs": [],
   "source": [
    "slurm = Slurm(user = 'enes', path = 'default', account = 'stats_dept1')"
   ]
  },
  {
   "cell_type": "code",
   "execution_count": 3,
   "metadata": {},
   "outputs": [
    {
     "data": {
      "text/html": [
       "<div>\n",
       "<style scoped>\n",
       "    .dataframe tbody tr th:only-of-type {\n",
       "        vertical-align: middle;\n",
       "    }\n",
       "\n",
       "    .dataframe tbody tr th {\n",
       "        vertical-align: top;\n",
       "    }\n",
       "\n",
       "    .dataframe thead th {\n",
       "        text-align: right;\n",
       "    }\n",
       "</style>\n",
       "<table border=\"1\" class=\"dataframe\">\n",
       "  <thead>\n",
       "    <tr style=\"text-align: right;\">\n",
       "      <th></th>\n",
       "      <th>JOBID</th>\n",
       "      <th>PARTITION</th>\n",
       "      <th>NAME</th>\n",
       "      <th>USER</th>\n",
       "      <th>ACCOUNT</th>\n",
       "      <th>ST</th>\n",
       "      <th>TIME</th>\n",
       "      <th>NODES</th>\n",
       "      <th>NODELIST(REASON)</th>\n",
       "    </tr>\n",
       "  </thead>\n",
       "  <tbody>\n",
       "    <tr>\n",
       "      <th>0</th>\n",
       "      <td>18069230</td>\n",
       "      <td>standard</td>\n",
       "      <td>sys/dash</td>\n",
       "      <td>enes</td>\n",
       "      <td>stats_de</td>\n",
       "      <td>R</td>\n",
       "      <td>3:55:33</td>\n",
       "      <td>1</td>\n",
       "      <td>gl3026</td>\n",
       "    </tr>\n",
       "  </tbody>\n",
       "</table>\n",
       "</div>"
      ],
      "text/plain": [
       "      JOBID PARTITION      NAME  USER   ACCOUNT ST     TIME  NODES  \\\n",
       "0  18069230  standard  sys/dash  enes  stats_de  R  3:55:33      1   \n",
       "\n",
       "  NODELIST(REASON)  \n",
       "0           gl3026  "
      ]
     },
     "execution_count": 3,
     "metadata": {},
     "output_type": "execute_result"
    }
   ],
   "source": [
    "slurm.queue()"
   ]
  },
  {
   "cell_type": "code",
   "execution_count": 10,
   "metadata": {},
   "outputs": [
    {
     "data": {
      "text/plain": [
       "[18069230]"
      ]
     },
     "execution_count": 10,
     "metadata": {},
     "output_type": "execute_result"
    }
   ],
   "source": [
    "slurm.jobids()"
   ]
  },
  {
   "cell_type": "markdown",
   "metadata": {},
   "source": [
    "### Running a job"
   ]
  },
  {
   "cell_type": "code",
   "execution_count": 11,
   "metadata": {},
   "outputs": [],
   "source": [
    "modules = ['python3.8-anaconda/2020.07', 'cuda/11.2.1']\n",
    "batchset = ['mem-per-cpu=1000', 'job-name=\"test\"']\n",
    "\n",
    "modules = ['module load '+m for m in modules]\n",
    "batchset = ['#'+s for s in batchset]\n",
    "\n",
    "srun = slurm.batch(*(modules+batchset))"
   ]
  },
  {
   "cell_type": "code",
   "execution_count": 12,
   "metadata": {},
   "outputs": [
    {
     "data": {
      "text/plain": [
       "['#!/bin/bash',\n",
       " '#SBATCH -p standard',\n",
       " '#SBATCH --output=/scratch/stats_dept_root/stats_dept1/enes/%x-%j.log',\n",
       " '#SBATCH --time=0-2:0:00',\n",
       " '#SBATCH --mem-per-cpu=1000',\n",
       " '#SBATCH --cpus-per-task=1',\n",
       " '#SBATCH --account=\"stats_dept1\"',\n",
       " '#SBATCH --job-name=\"test\"',\n",
       " '#SBATCH --ntasks=1',\n",
       " 'module load python3.8-anaconda/2020.07',\n",
       " 'module load cuda/11.2.1']"
      ]
     },
     "execution_count": 12,
     "metadata": {},
     "output_type": "execute_result"
    }
   ],
   "source": [
    "# this is what the program will run, notice there are some default settings\n",
    "srun.lines"
   ]
  },
  {
   "cell_type": "code",
   "execution_count": 13,
   "metadata": {},
   "outputs": [],
   "source": [
    "# running the job\n",
    "jobid = srun.run('python test.py sleep 10') # it will sleep for 10 seconds (check test.py)"
   ]
  },
  {
   "cell_type": "code",
   "execution_count": 20,
   "metadata": {},
   "outputs": [
    {
     "data": {
      "text/plain": [
       "('COMPLETED', '00:00:12')"
      ]
     },
     "execution_count": 20,
     "metadata": {},
     "output_type": "execute_result"
    }
   ],
   "source": [
    "# wait >10 secs for job statistics\n",
    "stats = slurm.my_job_stats(jobid)\n",
    "stats['State'], stats['Job running time']"
   ]
  },
  {
   "cell_type": "code",
   "execution_count": 21,
   "metadata": {},
   "outputs": [
    {
     "name": "stdout",
     "output_type": "stream",
     "text": [
      "sleep for 10 seconds\n",
      "done\n",
      "\n"
     ]
    }
   ],
   "source": [
    "slurm.read_out(jobid)"
   ]
  },
  {
   "cell_type": "markdown",
   "metadata": {},
   "source": [
    "### Cancel jobs by jobname and jobtime"
   ]
  },
  {
   "cell_type": "code",
   "execution_count": 22,
   "metadata": {},
   "outputs": [],
   "source": [
    "sleeptime = 1000\n",
    "\n",
    "batchset = ['mem-per-cpu=100', 'job-name=\"sleep\"']\n",
    "srun = slurm.batch(*['#'+s for s in batchset])\n",
    "# send 10 jobs:\n",
    "for i in range(10):\n",
    "    jobid = srun.run('python test.py sleep '+str(sleeptime))\n",
    "    \n",
    "batchset = ['mem-per-cpu=100', 'job-name=\"sleep2\"'] # same job with different name\n",
    "srun = slurm.batch(*['#'+s for s in batchset])\n",
    "# send 10 jobs:\n",
    "for i in range(10):\n",
    "    jobid = srun.run('python test.py sleep '+str(sleeptime))"
   ]
  },
  {
   "cell_type": "code",
   "execution_count": 23,
   "metadata": {},
   "outputs": [
    {
     "data": {
      "text/html": [
       "<div>\n",
       "<style scoped>\n",
       "    .dataframe tbody tr th:only-of-type {\n",
       "        vertical-align: middle;\n",
       "    }\n",
       "\n",
       "    .dataframe tbody tr th {\n",
       "        vertical-align: top;\n",
       "    }\n",
       "\n",
       "    .dataframe thead th {\n",
       "        text-align: right;\n",
       "    }\n",
       "</style>\n",
       "<table border=\"1\" class=\"dataframe\">\n",
       "  <thead>\n",
       "    <tr style=\"text-align: right;\">\n",
       "      <th></th>\n",
       "      <th>JOBID</th>\n",
       "      <th>PARTITION</th>\n",
       "      <th>NAME</th>\n",
       "      <th>USER</th>\n",
       "      <th>ACCOUNT</th>\n",
       "      <th>ST</th>\n",
       "      <th>TIME</th>\n",
       "      <th>NODES</th>\n",
       "      <th>NODELIST(REASON)</th>\n",
       "    </tr>\n",
       "  </thead>\n",
       "  <tbody>\n",
       "    <tr>\n",
       "      <th>0</th>\n",
       "      <td>18069981</td>\n",
       "      <td>standard</td>\n",
       "      <td>sleep</td>\n",
       "      <td>enes</td>\n",
       "      <td>stats_de</td>\n",
       "      <td>PD</td>\n",
       "      <td>0:00</td>\n",
       "      <td>1</td>\n",
       "      <td>(Priority)</td>\n",
       "    </tr>\n",
       "    <tr>\n",
       "      <th>1</th>\n",
       "      <td>18069982</td>\n",
       "      <td>standard</td>\n",
       "      <td>sleep</td>\n",
       "      <td>enes</td>\n",
       "      <td>stats_de</td>\n",
       "      <td>PD</td>\n",
       "      <td>0:00</td>\n",
       "      <td>1</td>\n",
       "      <td>(Priority)</td>\n",
       "    </tr>\n",
       "    <tr>\n",
       "      <th>2</th>\n",
       "      <td>18069983</td>\n",
       "      <td>standard</td>\n",
       "      <td>sleep</td>\n",
       "      <td>enes</td>\n",
       "      <td>stats_de</td>\n",
       "      <td>PD</td>\n",
       "      <td>0:00</td>\n",
       "      <td>1</td>\n",
       "      <td>(Priority)</td>\n",
       "    </tr>\n",
       "    <tr>\n",
       "      <th>3</th>\n",
       "      <td>18069984</td>\n",
       "      <td>standard</td>\n",
       "      <td>sleep</td>\n",
       "      <td>enes</td>\n",
       "      <td>stats_de</td>\n",
       "      <td>PD</td>\n",
       "      <td>0:00</td>\n",
       "      <td>1</td>\n",
       "      <td>(Priority)</td>\n",
       "    </tr>\n",
       "    <tr>\n",
       "      <th>4</th>\n",
       "      <td>18069985</td>\n",
       "      <td>standard</td>\n",
       "      <td>sleep</td>\n",
       "      <td>enes</td>\n",
       "      <td>stats_de</td>\n",
       "      <td>PD</td>\n",
       "      <td>0:00</td>\n",
       "      <td>1</td>\n",
       "      <td>(Priority)</td>\n",
       "    </tr>\n",
       "    <tr>\n",
       "      <th>5</th>\n",
       "      <td>18069986</td>\n",
       "      <td>standard</td>\n",
       "      <td>sleep</td>\n",
       "      <td>enes</td>\n",
       "      <td>stats_de</td>\n",
       "      <td>PD</td>\n",
       "      <td>0:00</td>\n",
       "      <td>1</td>\n",
       "      <td>(Priority)</td>\n",
       "    </tr>\n",
       "    <tr>\n",
       "      <th>6</th>\n",
       "      <td>18069987</td>\n",
       "      <td>standard</td>\n",
       "      <td>sleep</td>\n",
       "      <td>enes</td>\n",
       "      <td>stats_de</td>\n",
       "      <td>PD</td>\n",
       "      <td>0:00</td>\n",
       "      <td>1</td>\n",
       "      <td>(Priority)</td>\n",
       "    </tr>\n",
       "    <tr>\n",
       "      <th>7</th>\n",
       "      <td>18069988</td>\n",
       "      <td>standard</td>\n",
       "      <td>sleep</td>\n",
       "      <td>enes</td>\n",
       "      <td>stats_de</td>\n",
       "      <td>PD</td>\n",
       "      <td>0:00</td>\n",
       "      <td>1</td>\n",
       "      <td>(Priority)</td>\n",
       "    </tr>\n",
       "    <tr>\n",
       "      <th>8</th>\n",
       "      <td>18069989</td>\n",
       "      <td>standard</td>\n",
       "      <td>sleep</td>\n",
       "      <td>enes</td>\n",
       "      <td>stats_de</td>\n",
       "      <td>PD</td>\n",
       "      <td>0:00</td>\n",
       "      <td>1</td>\n",
       "      <td>(Priority)</td>\n",
       "    </tr>\n",
       "    <tr>\n",
       "      <th>9</th>\n",
       "      <td>18069990</td>\n",
       "      <td>standard</td>\n",
       "      <td>sleep</td>\n",
       "      <td>enes</td>\n",
       "      <td>stats_de</td>\n",
       "      <td>PD</td>\n",
       "      <td>0:00</td>\n",
       "      <td>1</td>\n",
       "      <td>(Priority)</td>\n",
       "    </tr>\n",
       "    <tr>\n",
       "      <th>10</th>\n",
       "      <td>18069991</td>\n",
       "      <td>standard</td>\n",
       "      <td>sleep2</td>\n",
       "      <td>enes</td>\n",
       "      <td>stats_de</td>\n",
       "      <td>PD</td>\n",
       "      <td>0:00</td>\n",
       "      <td>1</td>\n",
       "      <td>(Priority)</td>\n",
       "    </tr>\n",
       "    <tr>\n",
       "      <th>11</th>\n",
       "      <td>18069992</td>\n",
       "      <td>standard</td>\n",
       "      <td>sleep2</td>\n",
       "      <td>enes</td>\n",
       "      <td>stats_de</td>\n",
       "      <td>PD</td>\n",
       "      <td>0:00</td>\n",
       "      <td>1</td>\n",
       "      <td>(Priority)</td>\n",
       "    </tr>\n",
       "    <tr>\n",
       "      <th>12</th>\n",
       "      <td>18069993</td>\n",
       "      <td>standard</td>\n",
       "      <td>sleep2</td>\n",
       "      <td>enes</td>\n",
       "      <td>stats_de</td>\n",
       "      <td>PD</td>\n",
       "      <td>0:00</td>\n",
       "      <td>1</td>\n",
       "      <td>(Priority)</td>\n",
       "    </tr>\n",
       "    <tr>\n",
       "      <th>13</th>\n",
       "      <td>18069994</td>\n",
       "      <td>standard</td>\n",
       "      <td>sleep2</td>\n",
       "      <td>enes</td>\n",
       "      <td>stats_de</td>\n",
       "      <td>PD</td>\n",
       "      <td>0:00</td>\n",
       "      <td>1</td>\n",
       "      <td>(Priority)</td>\n",
       "    </tr>\n",
       "    <tr>\n",
       "      <th>14</th>\n",
       "      <td>18069995</td>\n",
       "      <td>standard</td>\n",
       "      <td>sleep2</td>\n",
       "      <td>enes</td>\n",
       "      <td>stats_de</td>\n",
       "      <td>PD</td>\n",
       "      <td>0:00</td>\n",
       "      <td>1</td>\n",
       "      <td>(Priority)</td>\n",
       "    </tr>\n",
       "    <tr>\n",
       "      <th>15</th>\n",
       "      <td>18069996</td>\n",
       "      <td>standard</td>\n",
       "      <td>sleep2</td>\n",
       "      <td>enes</td>\n",
       "      <td>stats_de</td>\n",
       "      <td>PD</td>\n",
       "      <td>0:00</td>\n",
       "      <td>1</td>\n",
       "      <td>(Priority)</td>\n",
       "    </tr>\n",
       "    <tr>\n",
       "      <th>16</th>\n",
       "      <td>18069997</td>\n",
       "      <td>standard</td>\n",
       "      <td>sleep2</td>\n",
       "      <td>enes</td>\n",
       "      <td>stats_de</td>\n",
       "      <td>PD</td>\n",
       "      <td>0:00</td>\n",
       "      <td>1</td>\n",
       "      <td>(Priority)</td>\n",
       "    </tr>\n",
       "    <tr>\n",
       "      <th>17</th>\n",
       "      <td>18069998</td>\n",
       "      <td>standard</td>\n",
       "      <td>sleep2</td>\n",
       "      <td>enes</td>\n",
       "      <td>stats_de</td>\n",
       "      <td>PD</td>\n",
       "      <td>0:00</td>\n",
       "      <td>1</td>\n",
       "      <td>(Priority)</td>\n",
       "    </tr>\n",
       "    <tr>\n",
       "      <th>18</th>\n",
       "      <td>18069999</td>\n",
       "      <td>standard</td>\n",
       "      <td>sleep2</td>\n",
       "      <td>enes</td>\n",
       "      <td>stats_de</td>\n",
       "      <td>PD</td>\n",
       "      <td>0:00</td>\n",
       "      <td>1</td>\n",
       "      <td>(Priority)</td>\n",
       "    </tr>\n",
       "    <tr>\n",
       "      <th>19</th>\n",
       "      <td>18070000</td>\n",
       "      <td>standard</td>\n",
       "      <td>sleep2</td>\n",
       "      <td>enes</td>\n",
       "      <td>stats_de</td>\n",
       "      <td>PD</td>\n",
       "      <td>0:00</td>\n",
       "      <td>1</td>\n",
       "      <td>(Priority)</td>\n",
       "    </tr>\n",
       "    <tr>\n",
       "      <th>20</th>\n",
       "      <td>18069230</td>\n",
       "      <td>standard</td>\n",
       "      <td>sys/dash</td>\n",
       "      <td>enes</td>\n",
       "      <td>stats_de</td>\n",
       "      <td>R</td>\n",
       "      <td>3:26:01</td>\n",
       "      <td>1</td>\n",
       "      <td>gl3026</td>\n",
       "    </tr>\n",
       "  </tbody>\n",
       "</table>\n",
       "</div>"
      ],
      "text/plain": [
       "       JOBID PARTITION      NAME  USER   ACCOUNT  ST     TIME  NODES  \\\n",
       "0   18069981  standard     sleep  enes  stats_de  PD     0:00      1   \n",
       "1   18069982  standard     sleep  enes  stats_de  PD     0:00      1   \n",
       "2   18069983  standard     sleep  enes  stats_de  PD     0:00      1   \n",
       "3   18069984  standard     sleep  enes  stats_de  PD     0:00      1   \n",
       "4   18069985  standard     sleep  enes  stats_de  PD     0:00      1   \n",
       "5   18069986  standard     sleep  enes  stats_de  PD     0:00      1   \n",
       "6   18069987  standard     sleep  enes  stats_de  PD     0:00      1   \n",
       "7   18069988  standard     sleep  enes  stats_de  PD     0:00      1   \n",
       "8   18069989  standard     sleep  enes  stats_de  PD     0:00      1   \n",
       "9   18069990  standard     sleep  enes  stats_de  PD     0:00      1   \n",
       "10  18069991  standard    sleep2  enes  stats_de  PD     0:00      1   \n",
       "11  18069992  standard    sleep2  enes  stats_de  PD     0:00      1   \n",
       "12  18069993  standard    sleep2  enes  stats_de  PD     0:00      1   \n",
       "13  18069994  standard    sleep2  enes  stats_de  PD     0:00      1   \n",
       "14  18069995  standard    sleep2  enes  stats_de  PD     0:00      1   \n",
       "15  18069996  standard    sleep2  enes  stats_de  PD     0:00      1   \n",
       "16  18069997  standard    sleep2  enes  stats_de  PD     0:00      1   \n",
       "17  18069998  standard    sleep2  enes  stats_de  PD     0:00      1   \n",
       "18  18069999  standard    sleep2  enes  stats_de  PD     0:00      1   \n",
       "19  18070000  standard    sleep2  enes  stats_de  PD     0:00      1   \n",
       "20  18069230  standard  sys/dash  enes  stats_de   R  3:26:01      1   \n",
       "\n",
       "   NODELIST(REASON)  \n",
       "0        (Priority)  \n",
       "1        (Priority)  \n",
       "2        (Priority)  \n",
       "3        (Priority)  \n",
       "4        (Priority)  \n",
       "5        (Priority)  \n",
       "6        (Priority)  \n",
       "7        (Priority)  \n",
       "8        (Priority)  \n",
       "9        (Priority)  \n",
       "10       (Priority)  \n",
       "11       (Priority)  \n",
       "12       (Priority)  \n",
       "13       (Priority)  \n",
       "14       (Priority)  \n",
       "15       (Priority)  \n",
       "16       (Priority)  \n",
       "17       (Priority)  \n",
       "18       (Priority)  \n",
       "19       (Priority)  \n",
       "20           gl3026  "
      ]
     },
     "execution_count": 23,
     "metadata": {},
     "output_type": "execute_result"
    }
   ],
   "source": [
    "slurm.queue()"
   ]
  },
  {
   "cell_type": "code",
   "execution_count": 24,
   "metadata": {},
   "outputs": [
    {
     "name": "stdout",
     "output_type": "stream",
     "text": [
      "Done!\n"
     ]
    }
   ],
   "source": [
    "# cancel by jobname\n",
    "slurm.cancel_by_name('sleep2')"
   ]
  },
  {
   "cell_type": "code",
   "execution_count": 25,
   "metadata": {},
   "outputs": [
    {
     "data": {
      "text/html": [
       "<div>\n",
       "<style scoped>\n",
       "    .dataframe tbody tr th:only-of-type {\n",
       "        vertical-align: middle;\n",
       "    }\n",
       "\n",
       "    .dataframe tbody tr th {\n",
       "        vertical-align: top;\n",
       "    }\n",
       "\n",
       "    .dataframe thead th {\n",
       "        text-align: right;\n",
       "    }\n",
       "</style>\n",
       "<table border=\"1\" class=\"dataframe\">\n",
       "  <thead>\n",
       "    <tr style=\"text-align: right;\">\n",
       "      <th></th>\n",
       "      <th>JOBID</th>\n",
       "      <th>PARTITION</th>\n",
       "      <th>NAME</th>\n",
       "      <th>USER</th>\n",
       "      <th>ACCOUNT</th>\n",
       "      <th>ST</th>\n",
       "      <th>TIME</th>\n",
       "      <th>NODES</th>\n",
       "      <th>NODELIST(REASON)</th>\n",
       "    </tr>\n",
       "  </thead>\n",
       "  <tbody>\n",
       "    <tr>\n",
       "      <th>0</th>\n",
       "      <td>18069981</td>\n",
       "      <td>standard</td>\n",
       "      <td>sleep</td>\n",
       "      <td>enes</td>\n",
       "      <td>stats_de</td>\n",
       "      <td>R</td>\n",
       "      <td>0:03</td>\n",
       "      <td>1</td>\n",
       "      <td>gl3162</td>\n",
       "    </tr>\n",
       "    <tr>\n",
       "      <th>1</th>\n",
       "      <td>18069982</td>\n",
       "      <td>standard</td>\n",
       "      <td>sleep</td>\n",
       "      <td>enes</td>\n",
       "      <td>stats_de</td>\n",
       "      <td>R</td>\n",
       "      <td>0:03</td>\n",
       "      <td>1</td>\n",
       "      <td>gl3163</td>\n",
       "    </tr>\n",
       "    <tr>\n",
       "      <th>2</th>\n",
       "      <td>18069983</td>\n",
       "      <td>standard</td>\n",
       "      <td>sleep</td>\n",
       "      <td>enes</td>\n",
       "      <td>stats_de</td>\n",
       "      <td>R</td>\n",
       "      <td>0:03</td>\n",
       "      <td>1</td>\n",
       "      <td>gl3257</td>\n",
       "    </tr>\n",
       "    <tr>\n",
       "      <th>3</th>\n",
       "      <td>18069984</td>\n",
       "      <td>standard</td>\n",
       "      <td>sleep</td>\n",
       "      <td>enes</td>\n",
       "      <td>stats_de</td>\n",
       "      <td>R</td>\n",
       "      <td>0:03</td>\n",
       "      <td>1</td>\n",
       "      <td>gl3257</td>\n",
       "    </tr>\n",
       "    <tr>\n",
       "      <th>4</th>\n",
       "      <td>18069985</td>\n",
       "      <td>standard</td>\n",
       "      <td>sleep</td>\n",
       "      <td>enes</td>\n",
       "      <td>stats_de</td>\n",
       "      <td>R</td>\n",
       "      <td>0:03</td>\n",
       "      <td>1</td>\n",
       "      <td>gl3040</td>\n",
       "    </tr>\n",
       "    <tr>\n",
       "      <th>5</th>\n",
       "      <td>18069986</td>\n",
       "      <td>standard</td>\n",
       "      <td>sleep</td>\n",
       "      <td>enes</td>\n",
       "      <td>stats_de</td>\n",
       "      <td>R</td>\n",
       "      <td>0:03</td>\n",
       "      <td>1</td>\n",
       "      <td>gl3040</td>\n",
       "    </tr>\n",
       "    <tr>\n",
       "      <th>6</th>\n",
       "      <td>18069987</td>\n",
       "      <td>standard</td>\n",
       "      <td>sleep</td>\n",
       "      <td>enes</td>\n",
       "      <td>stats_de</td>\n",
       "      <td>R</td>\n",
       "      <td>0:03</td>\n",
       "      <td>1</td>\n",
       "      <td>gl3040</td>\n",
       "    </tr>\n",
       "    <tr>\n",
       "      <th>7</th>\n",
       "      <td>18069988</td>\n",
       "      <td>standard</td>\n",
       "      <td>sleep</td>\n",
       "      <td>enes</td>\n",
       "      <td>stats_de</td>\n",
       "      <td>R</td>\n",
       "      <td>0:03</td>\n",
       "      <td>1</td>\n",
       "      <td>gl3040</td>\n",
       "    </tr>\n",
       "    <tr>\n",
       "      <th>8</th>\n",
       "      <td>18069989</td>\n",
       "      <td>standard</td>\n",
       "      <td>sleep</td>\n",
       "      <td>enes</td>\n",
       "      <td>stats_de</td>\n",
       "      <td>R</td>\n",
       "      <td>0:03</td>\n",
       "      <td>1</td>\n",
       "      <td>gl3077</td>\n",
       "    </tr>\n",
       "    <tr>\n",
       "      <th>9</th>\n",
       "      <td>18069990</td>\n",
       "      <td>standard</td>\n",
       "      <td>sleep</td>\n",
       "      <td>enes</td>\n",
       "      <td>stats_de</td>\n",
       "      <td>R</td>\n",
       "      <td>0:03</td>\n",
       "      <td>1</td>\n",
       "      <td>gl3077</td>\n",
       "    </tr>\n",
       "    <tr>\n",
       "      <th>10</th>\n",
       "      <td>18069230</td>\n",
       "      <td>standard</td>\n",
       "      <td>sys/dash</td>\n",
       "      <td>enes</td>\n",
       "      <td>stats_de</td>\n",
       "      <td>R</td>\n",
       "      <td>3:26:09</td>\n",
       "      <td>1</td>\n",
       "      <td>gl3026</td>\n",
       "    </tr>\n",
       "  </tbody>\n",
       "</table>\n",
       "</div>"
      ],
      "text/plain": [
       "       JOBID PARTITION      NAME  USER   ACCOUNT ST     TIME  NODES  \\\n",
       "0   18069981  standard     sleep  enes  stats_de  R     0:03      1   \n",
       "1   18069982  standard     sleep  enes  stats_de  R     0:03      1   \n",
       "2   18069983  standard     sleep  enes  stats_de  R     0:03      1   \n",
       "3   18069984  standard     sleep  enes  stats_de  R     0:03      1   \n",
       "4   18069985  standard     sleep  enes  stats_de  R     0:03      1   \n",
       "5   18069986  standard     sleep  enes  stats_de  R     0:03      1   \n",
       "6   18069987  standard     sleep  enes  stats_de  R     0:03      1   \n",
       "7   18069988  standard     sleep  enes  stats_de  R     0:03      1   \n",
       "8   18069989  standard     sleep  enes  stats_de  R     0:03      1   \n",
       "9   18069990  standard     sleep  enes  stats_de  R     0:03      1   \n",
       "10  18069230  standard  sys/dash  enes  stats_de  R  3:26:09      1   \n",
       "\n",
       "   NODELIST(REASON)  \n",
       "0            gl3162  \n",
       "1            gl3163  \n",
       "2            gl3257  \n",
       "3            gl3257  \n",
       "4            gl3040  \n",
       "5            gl3040  \n",
       "6            gl3040  \n",
       "7            gl3040  \n",
       "8            gl3077  \n",
       "9            gl3077  \n",
       "10           gl3026  "
      ]
     },
     "execution_count": 25,
     "metadata": {},
     "output_type": "execute_result"
    }
   ],
   "source": [
    "slurm.queue()"
   ]
  },
  {
   "cell_type": "code",
   "execution_count": 26,
   "metadata": {},
   "outputs": [
    {
     "name": "stdout",
     "output_type": "stream",
     "text": [
      "Done!\n"
     ]
    }
   ],
   "source": [
    "# cancel by job time\n",
    "slurm.cancel_by_time(mins = 10, above = False) # It will cancel all the jobs whose runtime <10 mins"
   ]
  },
  {
   "cell_type": "code",
   "execution_count": 28,
   "metadata": {},
   "outputs": [
    {
     "data": {
      "text/html": [
       "<div>\n",
       "<style scoped>\n",
       "    .dataframe tbody tr th:only-of-type {\n",
       "        vertical-align: middle;\n",
       "    }\n",
       "\n",
       "    .dataframe tbody tr th {\n",
       "        vertical-align: top;\n",
       "    }\n",
       "\n",
       "    .dataframe thead th {\n",
       "        text-align: right;\n",
       "    }\n",
       "</style>\n",
       "<table border=\"1\" class=\"dataframe\">\n",
       "  <thead>\n",
       "    <tr style=\"text-align: right;\">\n",
       "      <th></th>\n",
       "      <th>JOBID</th>\n",
       "      <th>PARTITION</th>\n",
       "      <th>NAME</th>\n",
       "      <th>USER</th>\n",
       "      <th>ACCOUNT</th>\n",
       "      <th>ST</th>\n",
       "      <th>TIME</th>\n",
       "      <th>NODES</th>\n",
       "      <th>NODELIST(REASON)</th>\n",
       "    </tr>\n",
       "  </thead>\n",
       "  <tbody>\n",
       "    <tr>\n",
       "      <th>0</th>\n",
       "      <td>18069230</td>\n",
       "      <td>standard</td>\n",
       "      <td>sys/dash</td>\n",
       "      <td>enes</td>\n",
       "      <td>stats_de</td>\n",
       "      <td>R</td>\n",
       "      <td>3:26:22</td>\n",
       "      <td>1</td>\n",
       "      <td>gl3026</td>\n",
       "    </tr>\n",
       "  </tbody>\n",
       "</table>\n",
       "</div>"
      ],
      "text/plain": [
       "      JOBID PARTITION      NAME  USER   ACCOUNT ST     TIME  NODES  \\\n",
       "0  18069230  standard  sys/dash  enes  stats_de  R  3:26:22      1   \n",
       "\n",
       "  NODELIST(REASON)  \n",
       "0           gl3026  "
      ]
     },
     "execution_count": 28,
     "metadata": {},
     "output_type": "execute_result"
    }
   ],
   "source": [
    "slurm.queue()"
   ]
  },
  {
   "cell_type": "markdown",
   "metadata": {},
   "source": [
    "the above methods are equivalent to:<br>\n",
    "`slurm.cancel(slurm.jobids_by_name()['sleep'])`<br>\n",
    "`slurm.cancel(slurm.jobids_by_time(10, above = False))`<br>\n",
    "You can also cancel all of your jobs by:<br>\n",
    "`slurm.cancel_all()`"
   ]
  },
  {
   "cell_type": "markdown",
   "metadata": {},
   "source": [
    "### Your monthly user usage in the account"
   ]
  },
  {
   "cell_type": "code",
   "execution_count": 32,
   "metadata": {
    "scrolled": true
   },
   "outputs": [
    {
     "name": "stdout",
     "output_type": "stream",
     "text": [
      "greatlak+     stats_dept1      enes     Enes Dilber        billing    2011999 \n",
      "\n",
      "Total usage is 58717297 your usage is 2011999 this is 3.43% of the total\n"
     ]
    }
   ],
   "source": [
    "slurm.monthly_usage()"
   ]
  },
  {
   "cell_type": "markdown",
   "metadata": {},
   "source": [
    "### Running parallel jobs for your simulations"
   ]
  },
  {
   "cell_type": "code",
   "execution_count": 51,
   "metadata": {},
   "outputs": [],
   "source": [
    "# Simulate data from Normal(mu, sigma^2)\n",
    "\n",
    "n = [100, 100000]\n",
    "mu = [0, -10, 10]\n",
    "sigma = [1, 2, 5]\n",
    "\n",
    "# there will be total 2 x 3 x 3 = 18 jobs and numbers will be stored in testout folder (see test.py)\n",
    "\n",
    "# generate the srun:\n",
    "modules = ['python3.8-anaconda/2020.07']\n",
    "batchset = ['mem-per-cpu=100', 'job-name=\"mynormalsims\"']\n",
    "\n",
    "modules = ['module load '+m for m in modules]\n",
    "batchset = ['#'+s for s in batchset]\n",
    "\n",
    "srun = slurm.batch(*(modules+batchset))"
   ]
  },
  {
   "cell_type": "code",
   "execution_count": 52,
   "metadata": {},
   "outputs": [
    {
     "name": "stdout",
     "output_type": "stream",
     "text": [
      "sent: python test.py normal 100 0 1 testout/100_0_1.npy\n",
      "sent: python test.py normal 100 0 2 testout/100_0_2.npy\n",
      "sent: python test.py normal 100 0 5 testout/100_0_5.npy\n",
      "sent: python test.py normal 100 -10 1 testout/100_-10_1.npy\n",
      "sent: python test.py normal 100 -10 2 testout/100_-10_2.npy\n",
      "sent: python test.py normal 100 -10 5 testout/100_-10_5.npy\n",
      "sent: python test.py normal 100 10 1 testout/100_10_1.npy\n",
      "sent: python test.py normal 100 10 2 testout/100_10_2.npy\n",
      "sent: python test.py normal 100 10 5 testout/100_10_5.npy\n",
      "sent: python test.py normal 100000 0 1 testout/100000_0_1.npy\n",
      "sent: python test.py normal 100000 0 2 testout/100000_0_2.npy\n",
      "sent: python test.py normal 100000 0 5 testout/100000_0_5.npy\n",
      "sent: python test.py normal 100000 -10 1 testout/100000_-10_1.npy\n",
      "sent: python test.py normal 100000 -10 2 testout/100000_-10_2.npy\n",
      "sent: python test.py normal 100000 -10 5 testout/100000_-10_5.npy\n",
      "sent: python test.py normal 100000 10 1 testout/100000_10_1.npy\n",
      "sent: python test.py normal 100000 10 2 testout/100000_10_2.npy\n",
      "sent: python test.py normal 100000 10 5 testout/100000_10_5.npy\n"
     ]
    }
   ],
   "source": [
    "jobids = []\n",
    "for ni in n:\n",
    "    for mui in mu:\n",
    "        for sigmai in sigma: \n",
    "            cur = [str(i) for i in [ni, mui, sigmai]]\n",
    "            \n",
    "            out_path = 'testout/'+'_'.join(cur)+'.npy' \n",
    "            args = ' '.join(cur)\n",
    "            \n",
    "            job = 'python test.py normal '+ args + ' ' + out_path           \n",
    "            jobids.append(srun.run(job)) # this will return the jobid\n",
    "            print('sent: '+job)"
   ]
  },
  {
   "cell_type": "markdown",
   "metadata": {},
   "source": [
    "#### You can get avarage runtime of your jobs:"
   ]
  },
  {
   "cell_type": "code",
   "execution_count": 56,
   "metadata": {
    "scrolled": true
   },
   "outputs": [
    {
     "name": "stdout",
     "output_type": "stream",
     "text": [
      "Avarage: 4.944 seconds, Maximum: 48.0 seconds\n"
     ]
    }
   ],
   "source": [
    "mult = [3600, 60, 1] # calc the time in seconds %H%M%S format\n",
    "\n",
    "rts = []\n",
    "for jobid in jobids:\n",
    "    rt = slurm.my_job_stats(jobid)['Job running time']\n",
    "    rts.append(sum([m*float(i) for m, i in zip(mult, rt.split(':'))]))\n",
    "    \n",
    "print('Avarage:',round(sum(rts)/len(rts), 3), 'seconds, Maximum:', max(rts), 'seconds')"
   ]
  },
  {
   "cell_type": "markdown",
   "metadata": {},
   "source": [
    "#### Do your analysis after your jobs are done"
   ]
  },
  {
   "cell_type": "code",
   "execution_count": 58,
   "metadata": {},
   "outputs": [
    {
     "data": {
      "image/png": "[encoded data removed]",
      "text/plain": [
       "<Figure size 432x288 with 1 Axes>"
      ]
     },
     "metadata": {
      "needs_background": "light"
     },
     "output_type": "display_data"
    }
   ],
   "source": [
    "import numpy as np\n",
    "import matplotlib.pyplot as plt\n",
    "\n",
    "arr = []pysl\n",
    "for ni in n:\n",
    "    for mui in mu:\n",
    "        for sigmai in sigma: \n",
    "            cur = [str(i) for i in [ni, mui, sigmai]]\n",
    "            out_path = 'testout/'+'_'.join(cur)+'.npy' \n",
    "            arr.append(np.load(out_path))\n",
    "plt.boxplot(arr)\n",
    "plt.show()"
   ]
  }
 ],
 "metadata": {
  "kernelspec": {
   "display_name": "Python 3",
   "language": "python",
   "name": "python3"
  },
  "language_info": {
   "codemirror_mode": {
    "name": "ipython",
    "version": 3
   },
   "file_extension": ".py",
   "mimetype": "text/x-python",
   "name": "python",
   "nbconvert_exporter": "python",
   "pygments_lexer": "ipython3",
   "version": "3.8.3"
  }
 },
 "nbformat": 4,
 "nbformat_minor": 4
}
